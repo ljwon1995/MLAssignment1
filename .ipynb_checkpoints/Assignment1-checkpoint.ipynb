{
 "cells": [
  {
   "cell_type": "code",
   "execution_count": 1,
   "metadata": {},
   "outputs": [],
   "source": [
    "# ML Assignment 1"
   ]
  },
  {
   "cell_type": "code",
   "execution_count": 2,
   "metadata": {},
   "outputs": [],
   "source": [
    "import random\n",
    "import math"
   ]
  },
  {
   "cell_type": "code",
   "execution_count": 3,
   "metadata": {},
   "outputs": [],
   "source": [
    "learningCluster1 = list()\n",
    "learningCluster2 = list()\n",
    "testingCluster1 = list()\n",
    "testingCluster2 = list()"
   ]
  },
  {
   "cell_type": "code",
   "execution_count": 4,
   "metadata": {
    "scrolled": true
   },
   "outputs": [
    {
     "name": "stdout",
     "output_type": "stream",
     "text": [
      "0.7140144743025472\n"
     ]
    }
   ],
   "source": [
    "#See how to create random number\n",
    "x = random.uniform(0, 3)\n",
    "print(x)\n"
   ]
  },
  {
   "cell_type": "code",
   "execution_count": 5,
   "metadata": {},
   "outputs": [
    {
     "name": "stdout",
     "output_type": "stream",
     "text": [
      "2\n",
      "3\n",
      "4\n",
      "5\n"
     ]
    }
   ],
   "source": [
    "#See how to save tuple in list\n",
    "learningCluster1.append((2,3))\n",
    "learningCluster1.append((4,5))\n",
    "print(learningCluster1[0][0])\n",
    "print(learningCluster1[0][1])\n",
    "print(learningCluster1[1][0])\n",
    "print(learningCluster1[1][1])\n"
   ]
  },
  {
   "cell_type": "code",
   "execution_count": 6,
   "metadata": {
    "scrolled": false
   },
   "outputs": [
    {
     "name": "stdout",
     "output_type": "stream",
     "text": [
      "cur i = 0, curCapa = 200.000000\n",
      "x should be -8.000000 < x < 12.000000\n",
      "x1 = 8.699295, x2 = -4.699295\n",
      "curCapa = 110.238898\n",
      "y should be -4.424247 < y < 10.424247\n",
      "y1 = 9.612294, y2 = -3.612294\n",
      "curCapa = 22.794042\n",
      "cur i = 1, curCapa = 22.794042\n",
      "x should be -1.375947 < x < 5.375947\n",
      "x1 = 1.975909, x2 = 2.024091\n",
      "curCapa = 22.792881\n",
      "y should be -0.375861 < y < 6.375861\n",
      "y1 = 2.483007, y2 = 3.516993\n",
      "curCapa = 22.258318\n",
      "cur i = 2, curCapa = 22.258318\n",
      "x should be -1.336039 < x < 5.336039\n",
      "x1 = 1.510732, x2 = 2.489268\n",
      "curCapa = 21.779552\n",
      "y should be -0.299966 < y < 6.299966\n",
      "y1 = 0.766886, y2 = 5.233114\n",
      "curCapa = 11.805952\n",
      "cur i = 3, curCapa = 11.805952\n",
      "x should be -0.429604 < x < 4.429604\n",
      "x1 = 3.859824, x2 = 0.140176\n",
      "curCapa = 4.888060\n",
      "y should be 1.436661 < y < 4.563339\n",
      "y1 = 4.258082, y2 = 1.741918\n",
      "curCapa = 1.722519\n",
      "cur i = 4, curCapa = 1.722519\n",
      "x should be 1.071959 < x < 2.928041\n",
      "x1 = 1.287512, x2 = 2.712488\n",
      "curCapa = 0.707241\n",
      "y1 = 3.594660, y2 = 2.405340\n",
      "curCapa = 0 : Error!\n"
     ]
    }
   ],
   "source": [
    "#make cluster demo\n",
    "\n",
    "center = (2,3)\n",
    "variance = 20\n",
    "num = 10\n",
    "cluster = list()\n",
    "\n",
    "curCapa = variance * num\n",
    "\n",
    "for i in range(num//2):\n",
    "\n",
    "    print(\"cur i = %d, curCapa = %f\" % (i, curCapa))\n",
    "    \n",
    "    rangeResult = math.sqrt((curCapa / 2))\n",
    "    print(\"x should be %f < x < %f\" % (-rangeResult + center[0], rangeResult+center[0]))\n",
    "    \n",
    "    x1 = random.uniform(-rangeResult + center[0], rangeResult + center[0])    \n",
    "    x2 = 2 * center[0] - x1\n",
    "    print(\"x1 = %f, x2 = %f\" % (x1, x2))\n",
    "    \n",
    "    curCapa -= 2*(x1-center[0])**2\n",
    "    print(\"curCapa = %f\" % curCapa)\n",
    "    \n",
    "    \n",
    "    \n",
    "    if i != (num//2)-1:\n",
    "        rangeResult = math.sqrt((curCapa / 2))\n",
    "        print(\"y should be %f < y < %f\" % (-rangeResult + center[1], rangeResult+center[1]))\n",
    "        \n",
    "        y1 = random.uniform(-rangeResult + center[1], rangeResult + center[1])\n",
    "        y2 = 2 * center[1] - y1\n",
    "        print(\"y1 = %f, y2 = %f\" % (y1, y2))\n",
    "        \n",
    "        \n",
    "        curCapa -= 2 * (y1 - center[1])**2\n",
    "        print(\"curCapa = %f\" % curCapa)\n",
    "        \n",
    "    elif i == (num//2)-1:\n",
    "        y1 = math.sqrt(curCapa/2) + center[1]\n",
    "        y2 = 2*center[1] - y1\n",
    "        print(\"y1 = %f, y2 = %f\" % (y1, y2))\n",
    "        \n",
    "        curCapa -= 2 * (y1 - center[1])**2\n",
    "        print(\"curCapa = %d : Error!\" % curCapa)\n",
    "            \n",
    "    cluster.append((x1,y1))\n",
    "    cluster.append((x2,y2))\n",
    "    "
   ]
  },
  {
   "cell_type": "code",
   "execution_count": 7,
   "metadata": {},
   "outputs": [
    {
     "name": "stdout",
     "output_type": "stream",
     "text": [
      "0th Coordinates (8.699295,9.612294)\n",
      "1th Coordinates (-4.699295,-3.612294)\n",
      "2th Coordinates (1.975909,2.483007)\n",
      "3th Coordinates (2.024091,3.516993)\n",
      "4th Coordinates (1.510732,0.766886)\n",
      "5th Coordinates (2.489268,5.233114)\n",
      "6th Coordinates (3.859824,4.258082)\n",
      "7th Coordinates (0.140176,1.741918)\n",
      "8th Coordinates (1.287512,3.594660)\n",
      "9th Coordinates (2.712488,2.405340)\n",
      "Cor Center : (2.000000,3.000000)\n",
      "Cal Center : (2.000000, 3.000000)\n",
      "Cor Variance : 20.000000\n",
      "Cal Variance : 20.000000\n"
     ]
    }
   ],
   "source": [
    "#Check center and Variance\n",
    "\n",
    "xSum = 0\n",
    "ySum = 0\n",
    "V = 0\n",
    "\n",
    "for i in range(num):\n",
    "    print(\"%dth Coordinates (%f,%f)\"%(i, cluster[i][0], cluster[i][1]))\n",
    "    xSum += cluster[i][0]\n",
    "    ySum += cluster[i][1]\n",
    "    V += (cluster[i][0] - center[0])**2 + (cluster[i][1] - center[1])**2\n",
    "\n",
    "V /= num\n",
    "print(\"Cor Center : (%f,%f)\" %(center[0], center[1]))\n",
    "print(\"Cal Center : (%f, %f)\" % (xSum/num , ySum/num))\n",
    "print(\"Cor Variance : %f\" % variance)\n",
    "print(\"Cal Variance : %f\" % V)\n",
    "\n",
    "\n"
   ]
  },
  {
   "cell_type": "code",
   "execution_count": null,
   "metadata": {},
   "outputs": [],
   "source": []
  },
  {
   "cell_type": "code",
   "execution_count": null,
   "metadata": {},
   "outputs": [],
   "source": []
  }
 ],
 "metadata": {
  "kernelspec": {
   "display_name": "Python 3",
   "language": "python",
   "name": "python3"
  },
  "language_info": {
   "codemirror_mode": {
    "name": "ipython",
    "version": 3
   },
   "file_extension": ".py",
   "mimetype": "text/x-python",
   "name": "python",
   "nbconvert_exporter": "python",
   "pygments_lexer": "ipython3",
   "version": "3.7.3"
  }
 },
 "nbformat": 4,
 "nbformat_minor": 2
}
