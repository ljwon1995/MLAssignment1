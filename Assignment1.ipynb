{
 "cells": [
  {
   "cell_type": "code",
   "execution_count": 11,
   "metadata": {},
   "outputs": [],
   "source": [
    "# ML Assignment 1"
   ]
  },
  {
   "cell_type": "code",
   "execution_count": 12,
   "metadata": {},
   "outputs": [],
   "source": [
    "import random\n",
    "import math\n",
    "import numpy as np"
   ]
  },
  {
   "cell_type": "code",
   "execution_count": 13,
   "metadata": {},
   "outputs": [],
   "source": [
    "# doublecheck function\n",
    "\n",
    "def doubleCheck(cluster, center, standard, num):\n",
    "\n",
    "    xSum = 0\n",
    "    ySum = 0\n",
    "    V = 0\n",
    "    xV = 0\n",
    "    yV = 0\n",
    "    \n",
    "    for i in range(num):\n",
    "        xSum += cluster[i][0]\n",
    "        ySum += cluster[i][1]\n",
    "        V += (cluster[i][0] - center[0])**2 + (cluster[i][1] - center[1])**2\n",
    "        xV += (cluster[i][0] - center[0])**2\n",
    "        yV += (cluster[i][1] - center[1])**2\n",
    "    \n",
    "    V /= num\n",
    "    xV /= num\n",
    "    yV/= num\n",
    "    calStand = math.sqrt(V)\n",
    "    xStand = math.sqrt(xV)\n",
    "    yStand = math.sqrt(yV)\n",
    "    \n",
    "    \n",
    "    print(\"Cor Center : (%f,%f)\" %(center[0], center[1]))\n",
    "    print(\"Cal Center : (%f, %f)\" % (xSum/num , ySum/num))\n",
    "    print(\"Cor Standard : %f\" % standard)\n",
    "    print(\"Cal Standard : %f\" % calStand)\n",
    "    print(\"Cal xStandard : %f\" % xStand)\n",
    "    print(\"Cal yStandard : %f\" % yStand)\n",
    "    \n",
    "    "
   ]
  },
  {
   "cell_type": "code",
   "execution_count": 14,
   "metadata": {},
   "outputs": [],
   "source": [
    "center = (0,100)\n",
    "standard = 5\n",
    "num = 1000000\n",
    "\n",
    "test = np.random.normal(center, standard, [num,2])\n",
    "\n",
    "#for i in range(num):\n",
    "#  print(\"%dth point : (%f, %f)\" % (i, test[i][0], test[i][1]))\n",
    "\n",
    "    \n"
   ]
  },
  {
   "cell_type": "code",
   "execution_count": 15,
   "metadata": {},
   "outputs": [
    {
     "name": "stdout",
     "output_type": "stream",
     "text": [
      "Cor Center : (0.000000,100.000000)\n",
      "Cal Center : (-0.002073, 99.993009)\n",
      "Cor Standard : 5.000000\n",
      "Cal Standard : 7.075187\n",
      "Cal xStandard : 5.002717\n",
      "Cal yStandard : 5.003108\n"
     ]
    }
   ],
   "source": [
    "doubleCheck(test, center, standard, num)"
   ]
  },
  {
   "cell_type": "code",
   "execution_count": null,
   "metadata": {},
   "outputs": [],
   "source": []
  },
  {
   "cell_type": "code",
   "execution_count": null,
   "metadata": {},
   "outputs": [],
   "source": []
  },
  {
   "cell_type": "code",
   "execution_count": null,
   "metadata": {},
   "outputs": [],
   "source": []
  }
 ],
 "metadata": {
  "kernelspec": {
   "display_name": "Python 3",
   "language": "python",
   "name": "python3"
  },
  "language_info": {
   "codemirror_mode": {
    "name": "ipython",
    "version": 3
   },
   "file_extension": ".py",
   "mimetype": "text/x-python",
   "name": "python",
   "nbconvert_exporter": "python",
   "pygments_lexer": "ipython3",
   "version": "3.7.3"
  }
 },
 "nbformat": 4,
 "nbformat_minor": 2
}
