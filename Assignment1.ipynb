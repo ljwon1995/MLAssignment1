{
 "cells": [
  {
   "cell_type": "code",
   "execution_count": 57,
   "metadata": {},
   "outputs": [],
   "source": [
    "# ML Assignment 1"
   ]
  },
  {
   "cell_type": "code",
   "execution_count": 58,
   "metadata": {},
   "outputs": [],
   "source": [
    "import random\n",
    "import math"
   ]
  },
  {
   "cell_type": "code",
   "execution_count": 59,
   "metadata": {},
   "outputs": [],
   "source": [
    "#define makeCluster function\n",
    "#should be edited to be able to calculate when num is odd number\n",
    "\n",
    "def makeCluster(center, variance, num):\n",
    "    \n",
    "    cluster = list()\n",
    "    curCapa = variance * num\n",
    "    \n",
    "    for i in range(num//2):\n",
    "\n",
    "        rangeResult = math.sqrt((curCapa / 2))\n",
    "\n",
    "        x1 = random.uniform(-rangeResult + center[0], rangeResult + center[0])    \n",
    "        x2 = 2 * center[0] - x1\n",
    "        \n",
    "        curCapa -= 2*(x1-center[0])**2\n",
    "        \n",
    "\n",
    "        if i != (num//2)-1:\n",
    "            rangeResult = math.sqrt((curCapa / 2))\n",
    "            y1 = random.uniform(-rangeResult + center[1], rangeResult + center[1])\n",
    "            \n",
    "        elif i == (num//2)-1:\n",
    "            y1 = math.sqrt(curCapa/2) + center[1]\n",
    "            \n",
    "        y2 = 2 * center[1] - y1\n",
    "        curCapa -= 2 * (y1 - center[1])**2\n",
    "            \n",
    "        cluster.append((x1,y1))\n",
    "        cluster.append((x2,y2))\n",
    "        \n",
    "    return cluster"
   ]
  },
  {
   "cell_type": "code",
   "execution_count": 60,
   "metadata": {},
   "outputs": [],
   "source": [
    "# doublecheck function\n",
    "\n",
    "def doubleCheck(cluster, center, variance, num):\n",
    "    V = 0\n",
    "    xSum = 0\n",
    "    ySum = 0\n",
    "    \n",
    "    for i in range(num):\n",
    "        xSum += cluster[i][0]\n",
    "        ySum += cluster[i][1]\n",
    "        V += (cluster[i][0] - center[0])**2 + (cluster[i][1] - center[1])**2\n",
    "    \n",
    "    V /= num\n",
    "    \n",
    "    print(\"Cor Center : (%f,%f)\" %(center[0], center[1]))\n",
    "    print(\"Cal Center : (%f, %f)\" % (xSum/num , ySum/num))\n",
    "    print(\"Cor Variance : %f\" % variance)\n",
    "    print(\"Cal Variance : %f\" % V)\n",
    "    \n",
    "    "
   ]
  },
  {
   "cell_type": "code",
   "execution_count": 61,
   "metadata": {},
   "outputs": [
    {
     "name": "stdout",
     "output_type": "stream",
     "text": [
      "0th point : (5.473365, -5.172638)\n",
      "1th point : (-1.473365, 11.172638)\n",
      "2th point : (3.908652, 3.357603)\n",
      "3th point : (0.091348, 2.642397)\n",
      "4th point : (0.084354, 4.509471)\n",
      "5th point : (3.915646, 1.490529)\n",
      "6th point : (3.688607, 2.553461)\n",
      "7th point : (0.311393, 3.446539)\n",
      "8th point : (2.198539, 5.886950)\n",
      "9th point : (1.801461, 0.113050)\n",
      "Cor Center : (2.000000,3.000000)\n",
      "Cal Center : (2.000000, 3.000000)\n",
      "Cor Variance : 20.000000\n",
      "Cal Variance : 20.000000\n"
     ]
    }
   ],
   "source": [
    "center = (2,3)\n",
    "variance = 20\n",
    "num = 10\n",
    "\n",
    "test = makeCluster(center, variance, num)\n",
    "\n",
    "for i in range(num):\n",
    "    print(\"%dth point : (%f, %f)\" % (i, test[i][0], test[i][1]))\n",
    "    \n",
    "doubleCheck(test, center, variance, num)"
   ]
  },
  {
   "cell_type": "code",
   "execution_count": null,
   "metadata": {},
   "outputs": [],
   "source": []
  },
  {
   "cell_type": "code",
   "execution_count": null,
   "metadata": {},
   "outputs": [],
   "source": []
  }
 ],
 "metadata": {
  "kernelspec": {
   "display_name": "Python 3",
   "language": "python",
   "name": "python3"
  },
  "language_info": {
   "codemirror_mode": {
    "name": "ipython",
    "version": 3
   },
   "file_extension": ".py",
   "mimetype": "text/x-python",
   "name": "python",
   "nbconvert_exporter": "python",
   "pygments_lexer": "ipython3",
   "version": "3.7.3"
  }
 },
 "nbformat": 4,
 "nbformat_minor": 2
}
